{
 "cells": [
  {
   "cell_type": "markdown",
   "id": "c1e6f3c4",
   "metadata": {},
   "source": [
    "# Webscraping"
   ]
  },
  {
   "cell_type": "code",
   "execution_count": 8,
   "id": "3870b47b",
   "metadata": {},
   "outputs": [],
   "source": [
    "#import libraries\n",
    "\n",
    "from bs4 import BeautifulSoup as bs\n",
    "import requests\n",
    "import smtplib\n",
    "import time\n",
    "import datetime"
   ]
  },
  {
   "cell_type": "code",
   "execution_count": 9,
   "id": "21ddeea8",
   "metadata": {},
   "outputs": [
    {
     "name": "stdout",
     "output_type": "stream",
     "text": [
      "\n",
      "                   Data Communications Analyst AF - A Soft & Comfortable Men's T-Shirt\n",
      "                  \n",
      "\n",
      "                    $24.99\n",
      "                   \n"
     ]
    }
   ],
   "source": [
    "#Connect to a website\n",
    "\n",
    "url = 'https://www.amazon.com/Data-Communications-Analyst-Comfortable-XXX-Large/dp/B084687F46/ref=sr_1_17?dchild=1&keywords=data%2Banalyst%2Btshirt&qid=1630022995&sr=8-17&th=1&psc=1'\n",
    "\n",
    "headers = {\"User-Agent\": \"Mozilla/5.0 (Windows NT 10.0; Win64; x64) AppleWebKit/537.36 (KHTML, like Gecko) Chrome/78.0.3904.108 Safari/537.36\", \"Accept-Encoding\":\"gzip, deflate\", \"Accept\":\"text/html,application/xhtml+xml,application/xml;q=0.9,*/*;q=0.8\", \"DNT\":\"1\",\"Connection\":\"close\", \"Upgrade-Insecure-Requests\":\"1\"}\n",
    "\n",
    "web = requests.get(url, headers = headers)\n",
    "\n",
    "soup_1 = bs(web.content, \"html.parser\")\n",
    "\n",
    "#Reorder the content in viewable format \n",
    "soup_2 = bs(soup_1.prettify(),\"html.parser\")\n",
    "\n",
    "#Extract the product and its price\n",
    "title = soup_2.find(id = \"productTitle\").get_text()\n",
    "\n",
    "price = soup_2.find(id = \"priceblock_ourprice\").get_text()\n",
    "\n",
    "print(title)\n",
    "print(price)"
   ]
  },
  {
   "cell_type": "code",
   "execution_count": 10,
   "id": "70fc3738",
   "metadata": {},
   "outputs": [
    {
     "name": "stdout",
     "output_type": "stream",
     "text": [
      "Data Communications Analyst AF - A Soft & Comfortable Men's T-Shirt\n",
      "24.99\n"
     ]
    }
   ],
   "source": [
    "#Remove extra spacing and dollar sign, $\n",
    "price = price.strip()[1:]\n",
    "title = title.strip()\n",
    "\n",
    "print(title)\n",
    "print(price)"
   ]
  },
  {
   "cell_type": "code",
   "execution_count": 11,
   "id": "9dbfaec4",
   "metadata": {},
   "outputs": [
    {
     "name": "stdout",
     "output_type": "stream",
     "text": [
      "2021-08-28\n"
     ]
    }
   ],
   "source": [
    "today = datetime.date.today()\n",
    "\n",
    "print(today)"
   ]
  },
  {
   "cell_type": "code",
   "execution_count": 12,
   "id": "06c63cfd",
   "metadata": {},
   "outputs": [],
   "source": [
    "import csv \n",
    "\n",
    "header = [\"Title\", \"Price\",\"Date\"]\n",
    "\n",
    "data = [title, price,today]\n",
    "\n",
    "with open(\"Amazon_Webscraping_Dataset.csv\", \"w\", newline='', encoding = \"UTF8\") as f:\n",
    "    writer = csv.writer(f)\n",
    "    writer.writerow(header)\n",
    "    writer.writerow(data)"
   ]
  },
  {
   "cell_type": "code",
   "execution_count": 13,
   "id": "0356f95c",
   "metadata": {},
   "outputs": [
    {
     "data": {
      "text/html": [
       "<div>\n",
       "<style scoped>\n",
       "    .dataframe tbody tr th:only-of-type {\n",
       "        vertical-align: middle;\n",
       "    }\n",
       "\n",
       "    .dataframe tbody tr th {\n",
       "        vertical-align: top;\n",
       "    }\n",
       "\n",
       "    .dataframe thead th {\n",
       "        text-align: right;\n",
       "    }\n",
       "</style>\n",
       "<table border=\"1\" class=\"dataframe\">\n",
       "  <thead>\n",
       "    <tr style=\"text-align: right;\">\n",
       "      <th></th>\n",
       "      <th>Title</th>\n",
       "      <th>Price</th>\n",
       "      <th>Date</th>\n",
       "    </tr>\n",
       "  </thead>\n",
       "  <tbody>\n",
       "    <tr>\n",
       "      <th>0</th>\n",
       "      <td>Data Communications Analyst AF - A Soft &amp; Comf...</td>\n",
       "      <td>24.99</td>\n",
       "      <td>2021-08-28</td>\n",
       "    </tr>\n",
       "  </tbody>\n",
       "</table>\n",
       "</div>"
      ],
      "text/plain": [
       "                                               Title  Price        Date\n",
       "0  Data Communications Analyst AF - A Soft & Comf...  24.99  2021-08-28"
      ]
     },
     "execution_count": 13,
     "metadata": {},
     "output_type": "execute_result"
    }
   ],
   "source": [
    "#Check the csv file if there is any error\n",
    "\n",
    "import pandas as pd\n",
    "\n",
    "df = pd.read_csv(r\"Amazon_Webscraping_Dataset.csv\")\n",
    "\n",
    "df"
   ]
  },
  {
   "cell_type": "code",
   "execution_count": 14,
   "id": "7493dfe0",
   "metadata": {},
   "outputs": [],
   "source": [
    "#Append data to csv\n",
    "\n",
    "with open(\"Amazon_Webscraping_Dataset.csv\", \"a+\", newline='', encoding = \"UTF8\") as f:\n",
    "    writer = csv.writer(f)\n",
    "    writer.writerow(data)"
   ]
  },
  {
   "cell_type": "code",
   "execution_count": 17,
   "id": "f493ef70",
   "metadata": {},
   "outputs": [],
   "source": [
    "#Create a function to determine price alteration for future\n",
    "#Auto send an email when the price is within user's budget\n",
    "\n",
    "def price_alteration():\n",
    "    url = 'https://www.amazon.com/Data-Communications-Analyst-Comfortable-XXX-Large/dp/B084687F46/ref=sr_1_17?dchild=1&keywords=data%2Banalyst%2Btshirt&qid=1630022995&sr=8-17&th=1&psc=1'\n",
    "\n",
    "    headers = {\"User-Agent\": \"Mozilla/5.0 (Windows NT 10.0; Win64; x64) AppleWebKit/537.36 (KHTML, like Gecko) Chrome/78.0.3904.108 Safari/537.36\", \"Accept-Encoding\":\"gzip, deflate\", \"Accept\":\"text/html,application/xhtml+xml,application/xml;q=0.9,*/*;q=0.8\", \"DNT\":\"1\",\"Connection\":\"close\", \"Upgrade-Insecure-Requests\":\"1\"}\n",
    "\n",
    "    web = requests.get(url, headers = headers)\n",
    "\n",
    "    soup_1 = bs(web.content, \"html.parser\")\n",
    "\n",
    "    soup_2 = bs(soup_1.prettify(),\"html.parser\")\n",
    "\n",
    "    title = soup_2.find(id = \"productTitle\").get_text()\n",
    "\n",
    "    price = soup_2.find(id = \"priceblock_ourprice\").get_text()\n",
    "    \n",
    "    price = price.strip()[1:]\n",
    "    \n",
    "    title = title.strip()\n",
    "    \n",
    "    import datetime\n",
    "    \n",
    "    today = datetime.date.today()\n",
    "    \n",
    "    header = [\"Title\", \"Price\",\"Date\"]\n",
    "\n",
    "    data = [title, price,today]\n",
    "\n",
    "    with open(\"Amazon_Webscraping_Dataset.csv\", \"a+\", newline='', encoding = \"UTF8\") as f:\n",
    "        writer = csv.writer(f)\n",
    "        writer.writerow(data)\n",
    "        \n",
    "    if (price<20):\n",
    "        send_mail()\n",
    "        "
   ]
  },
  {
   "cell_type": "code",
   "execution_count": 18,
   "id": "ccdf8cdb",
   "metadata": {},
   "outputs": [
    {
     "ename": "KeyboardInterrupt",
     "evalue": "",
     "output_type": "error",
     "traceback": [
      "\u001b[1;31m---------------------------------------------------------------------------\u001b[0m",
      "\u001b[1;31mKeyboardInterrupt\u001b[0m                         Traceback (most recent call last)",
      "\u001b[1;32mC:\\Users\\ADMINI~1\\AppData\\Local\\Temp/ipykernel_8372/184701972.py\u001b[0m in \u001b[0;36m<module>\u001b[1;34m\u001b[0m\n\u001b[0;32m      1\u001b[0m \u001b[1;32mwhile\u001b[0m \u001b[1;33m(\u001b[0m\u001b[1;32mTrue\u001b[0m\u001b[1;33m)\u001b[0m\u001b[1;33m:\u001b[0m\u001b[1;33m\u001b[0m\u001b[1;33m\u001b[0m\u001b[0m\n\u001b[0;32m      2\u001b[0m     \u001b[0mprice_alteration\u001b[0m\u001b[1;33m(\u001b[0m\u001b[1;33m)\u001b[0m\u001b[1;33m\u001b[0m\u001b[1;33m\u001b[0m\u001b[0m\n\u001b[1;32m----> 3\u001b[1;33m     \u001b[0mtime\u001b[0m\u001b[1;33m.\u001b[0m\u001b[0msleep\u001b[0m\u001b[1;33m(\u001b[0m\u001b[1;36m5\u001b[0m\u001b[1;33m)\u001b[0m\u001b[1;33m\u001b[0m\u001b[1;33m\u001b[0m\u001b[0m\n\u001b[0m",
      "\u001b[1;31mKeyboardInterrupt\u001b[0m: "
     ]
    }
   ],
   "source": [
    "#Timer to record the price in certain range \n",
    "while (True):\n",
    "    price_alteration()\n",
    "    time.sleep(86400)"
   ]
  },
  {
   "cell_type": "code",
   "execution_count": 19,
   "id": "2aa2ec1b",
   "metadata": {},
   "outputs": [
    {
     "data": {
      "text/html": [
       "<div>\n",
       "<style scoped>\n",
       "    .dataframe tbody tr th:only-of-type {\n",
       "        vertical-align: middle;\n",
       "    }\n",
       "\n",
       "    .dataframe tbody tr th {\n",
       "        vertical-align: top;\n",
       "    }\n",
       "\n",
       "    .dataframe thead th {\n",
       "        text-align: right;\n",
       "    }\n",
       "</style>\n",
       "<table border=\"1\" class=\"dataframe\">\n",
       "  <thead>\n",
       "    <tr style=\"text-align: right;\">\n",
       "      <th></th>\n",
       "      <th>Title</th>\n",
       "      <th>Price</th>\n",
       "      <th>Date</th>\n",
       "    </tr>\n",
       "  </thead>\n",
       "  <tbody>\n",
       "    <tr>\n",
       "      <th>0</th>\n",
       "      <td>Data Communications Analyst AF - A Soft &amp; Comf...</td>\n",
       "      <td>24.99</td>\n",
       "      <td>2021-08-28</td>\n",
       "    </tr>\n",
       "    <tr>\n",
       "      <th>1</th>\n",
       "      <td>Data Communications Analyst AF - A Soft &amp; Comf...</td>\n",
       "      <td>24.99</td>\n",
       "      <td>2021-08-28</td>\n",
       "    </tr>\n",
       "    <tr>\n",
       "      <th>2</th>\n",
       "      <td>Data Communications Analyst AF - A Soft &amp; Comf...</td>\n",
       "      <td>24.99</td>\n",
       "      <td>2021-08-28</td>\n",
       "    </tr>\n",
       "    <tr>\n",
       "      <th>3</th>\n",
       "      <td>Data Communications Analyst AF - A Soft &amp; Comf...</td>\n",
       "      <td>24.99</td>\n",
       "      <td>2021-08-28</td>\n",
       "    </tr>\n",
       "    <tr>\n",
       "      <th>4</th>\n",
       "      <td>Data Communications Analyst AF - A Soft &amp; Comf...</td>\n",
       "      <td>24.99</td>\n",
       "      <td>2021-08-28</td>\n",
       "    </tr>\n",
       "    <tr>\n",
       "      <th>5</th>\n",
       "      <td>Data Communications Analyst AF - A Soft &amp; Comf...</td>\n",
       "      <td>24.99</td>\n",
       "      <td>2021-08-28</td>\n",
       "    </tr>\n",
       "    <tr>\n",
       "      <th>6</th>\n",
       "      <td>Data Communications Analyst AF - A Soft &amp; Comf...</td>\n",
       "      <td>24.99</td>\n",
       "      <td>2021-08-28</td>\n",
       "    </tr>\n",
       "    <tr>\n",
       "      <th>7</th>\n",
       "      <td>Data Communications Analyst AF - A Soft &amp; Comf...</td>\n",
       "      <td>24.99</td>\n",
       "      <td>2021-08-28</td>\n",
       "    </tr>\n",
       "    <tr>\n",
       "      <th>8</th>\n",
       "      <td>Data Communications Analyst AF - A Soft &amp; Comf...</td>\n",
       "      <td>24.99</td>\n",
       "      <td>2021-08-28</td>\n",
       "    </tr>\n",
       "    <tr>\n",
       "      <th>9</th>\n",
       "      <td>Data Communications Analyst AF - A Soft &amp; Comf...</td>\n",
       "      <td>24.99</td>\n",
       "      <td>2021-08-28</td>\n",
       "    </tr>\n",
       "    <tr>\n",
       "      <th>10</th>\n",
       "      <td>Data Communications Analyst AF - A Soft &amp; Comf...</td>\n",
       "      <td>24.99</td>\n",
       "      <td>2021-08-28</td>\n",
       "    </tr>\n",
       "    <tr>\n",
       "      <th>11</th>\n",
       "      <td>Data Communications Analyst AF - A Soft &amp; Comf...</td>\n",
       "      <td>24.99</td>\n",
       "      <td>2021-08-28</td>\n",
       "    </tr>\n",
       "  </tbody>\n",
       "</table>\n",
       "</div>"
      ],
      "text/plain": [
       "                                                Title  Price        Date\n",
       "0   Data Communications Analyst AF - A Soft & Comf...  24.99  2021-08-28\n",
       "1   Data Communications Analyst AF - A Soft & Comf...  24.99  2021-08-28\n",
       "2   Data Communications Analyst AF - A Soft & Comf...  24.99  2021-08-28\n",
       "3   Data Communications Analyst AF - A Soft & Comf...  24.99  2021-08-28\n",
       "4   Data Communications Analyst AF - A Soft & Comf...  24.99  2021-08-28\n",
       "5   Data Communications Analyst AF - A Soft & Comf...  24.99  2021-08-28\n",
       "6   Data Communications Analyst AF - A Soft & Comf...  24.99  2021-08-28\n",
       "7   Data Communications Analyst AF - A Soft & Comf...  24.99  2021-08-28\n",
       "8   Data Communications Analyst AF - A Soft & Comf...  24.99  2021-08-28\n",
       "9   Data Communications Analyst AF - A Soft & Comf...  24.99  2021-08-28\n",
       "10  Data Communications Analyst AF - A Soft & Comf...  24.99  2021-08-28\n",
       "11  Data Communications Analyst AF - A Soft & Comf...  24.99  2021-08-28"
      ]
     },
     "execution_count": 19,
     "metadata": {},
     "output_type": "execute_result"
    }
   ],
   "source": [
    "#Recheck dataset\n",
    "import pandas as pd\n",
    "\n",
    "df = pd.read_csv(r\"Amazon_Webscraping_Dataset.csv\")\n",
    "\n",
    "df"
   ]
  },
  {
   "cell_type": "code",
   "execution_count": 20,
   "id": "bc9a86d9",
   "metadata": {},
   "outputs": [],
   "source": [
    "def send_mail():\n",
    "    server = smtplib.SMTP_SSL('smtp.gmail.com',465)\n",
    "    server.ehlo()\n",
    "    #server.starttls()\n",
    "    server.ehlo()\n",
    "    server.login('forexample@gmail.com','password')\n",
    "    \n",
    "    subject = \"The Shirt you want is below $15! Now is your chance to buy!\"\n",
    "    body = \"This is the moment we have been waiting for. Now is your chance to pick up the shirt of your dreams. Don't mess it up! Link here: https://www.amazon.com/Data-Communications-Analyst-Comfortable-XXX-Large/dp/B084687F46/ref=sr_1_17?dchild=1&keywords=data%2Banalyst%2Btshirt&qid=1630022995&sr=8-17&th=1&psc=1\"\n",
    "   \n",
    "    msg = f\"Subject: {subject}\\n\\n{body}\"\n",
    "    \n",
    "    server.sendmail(\n",
    "        'forexample@gmail.com',\n",
    "        msg\n",
    "     \n",
    "    )"
   ]
  },
  {
   "cell_type": "code",
   "execution_count": null,
   "id": "a20295ef",
   "metadata": {},
   "outputs": [],
   "source": []
  }
 ],
 "metadata": {
  "kernelspec": {
   "display_name": "Python 3 (ipykernel)",
   "language": "python",
   "name": "python3"
  },
  "language_info": {
   "codemirror_mode": {
    "name": "ipython",
    "version": 3
   },
   "file_extension": ".py",
   "mimetype": "text/x-python",
   "name": "python",
   "nbconvert_exporter": "python",
   "pygments_lexer": "ipython3",
   "version": "3.9.6"
  }
 },
 "nbformat": 4,
 "nbformat_minor": 5
}
